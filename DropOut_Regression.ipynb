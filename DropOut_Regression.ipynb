{
  "nbformat": 4,
  "nbformat_minor": 0,
  "metadata": {
    "colab": {
      "provenance": []
    },
    "kernelspec": {
      "name": "python3",
      "display_name": "Python 3"
    },
    "language_info": {
      "name": "python"
    }
  },
  "cells": [
    {
      "cell_type": "markdown",
      "source": [
        "# Drop-out\n",
        "- In a neural network overfitting is a common issue. So we use drop-out. It is all about deactivating some of the neurons. Here the network randomly shuffles and deactivate the neurons. It always increase generalization power of the model. We can say it reduces the overfitting of the model. And by drop-out the information loss is very less.\n",
        "- It train the network in better way, as everytime we are hiding some part of the entire data to the network. By this way we show multiple samples to the network. And here the hiding is random.\n",
        "- Generally drop-out increases the acuracy of the model by 2-3%. But there is a rare cance that it may increase upto 10%.\n",
        "- We always set drop-out value(p) in between 0 - 0.5"
      ],
      "metadata": {
        "id": "jrMxFd7UekWv"
      }
    },
    {
      "cell_type": "markdown",
      "source": [
        "Github: https://github.com/saisubhasish"
      ],
      "metadata": {
        "id": "FI4QpI2ujYxD"
      }
    },
    {
      "cell_type": "code",
      "execution_count": 1,
      "metadata": {
        "id": "ifReQr_cqEZ7"
      },
      "outputs": [],
      "source": [
        "#Importing required packages\n",
        "\n",
        "import tensorflow as tf\n",
        "import numpy as np\n",
        "import matplotlib.pyplot as plt\n",
        "from tensorflow.keras.models import Sequential\n",
        "from tensorflow.keras.layers import Dense\n",
        "from tensorflow.keras.layers import Dropout\n",
        "from tensorflow.keras.optimizers import Adam\n",
        "from sklearn.model_selection import train_test_split\n",
        "from sklearn.metrics import mean_squared_error"
      ]
    },
    {
      "cell_type": "markdown",
      "source": [
        "### Generating train and test Data"
      ],
      "metadata": {
        "id": "DQvnc2X0rIMj"
      }
    },
    {
      "cell_type": "code",
      "source": [
        "x_train = np.linspace(-1, 1, 20)"
      ],
      "metadata": {
        "id": "oi0DlkIqrFFA"
      },
      "execution_count": 17,
      "outputs": []
    },
    {
      "cell_type": "code",
      "source": [
        "y_train = np.array([-0.6561 , -0.3099 , -0.59035, -0.50855, -0.285  , \n",
        "                    -0.2443 , -0.02445,  0.00135, -0.2006 ,  0.07475, \n",
        "                    -0.1422 ,  0.06515,  0.15265,  0.3521 ,  0.28415,  \n",
        "                    0.5524 ,  0.23115,  0.20835, 0.4211,  0.60485]) "
      ],
      "metadata": {
        "id": "Z372F_2QrcGn"
      },
      "execution_count": 18,
      "outputs": []
    },
    {
      "cell_type": "code",
      "source": [
        "x_test = np.linspace(-1, 1, 20)"
      ],
      "metadata": {
        "id": "ZQiZbaWarztW"
      },
      "execution_count": 19,
      "outputs": []
    },
    {
      "cell_type": "code",
      "source": [
        "y_test = np.array([-0.69415, -0.451  , -0.43005, -0.4484 , -0.1475 ,\n",
        "                   -0.5019 , -0.28055,  0.24595, -0.21425, -0.0286 ,  \n",
        "                   0.23415,  0.46575, 0.07955,  0.1973 ,  0.0719 ,\n",
        "                   0.3639 ,  0.5536 ,  0.3365 , 0.50705,  0.33435])"
      ],
      "metadata": {
        "id": "9trDE3_0r43b"
      },
      "execution_count": 20,
      "outputs": []
    },
    {
      "cell_type": "markdown",
      "source": [
        "### Plotting train-test data"
      ],
      "metadata": {
        "id": "HaKdxRnUakgj"
      }
    },
    {
      "cell_type": "code",
      "source": [
        "plt.scatter(x_train, y_train, c='red', label='Train')\n",
        "plt.scatter(x_test, y_test, c='blue', label='Test')\n",
        "plt.legend()\n",
        "plt.show()"
      ],
      "metadata": {
        "colab": {
          "base_uri": "https://localhost:8080/",
          "height": 265
        },
        "id": "kx8ZN0DIr9mF",
        "outputId": "e296ed96-5634-4a18-ccb7-47c5fea70e16"
      },
      "execution_count": 21,
      "outputs": [
        {
          "output_type": "display_data",
          "data": {
            "text/plain": [
              "<Figure size 432x288 with 1 Axes>"
            ],
            "image/png": "[encoded data removed]"
          },
          "metadata": {
            "needs_background": "light"
          }
        }
      ]
    },
    {
      "cell_type": "markdown",
      "source": [
        "####Report:\n",
        "- Dataset is showing linear relationship"
      ],
      "metadata": {
        "id": "OSZ0fIKKav6G"
      }
    },
    {
      "cell_type": "markdown",
      "source": [
        "## Making Regression Model"
      ],
      "metadata": {
        "id": "2RoVLJ26sHHE"
      }
    },
    {
      "cell_type": "code",
      "source": [
        "# Model building -->> ANN\n",
        "\n",
        "model_1 = Sequential()\n",
        "\n",
        "model_1.add(Dense(128, input_dim=1, activation=\"relu\"))\n",
        "model_1.add(Dense(128, activation=\"relu\"))\n",
        "model_1.add(Dense(1, activation=\"linear\"))     # linear\n",
        "\n",
        "adam = Adam(learning_rate=0.01)        ## Faster\n",
        "model_1.compile(loss='mse', optimizer=adam, metrics=['mse'])\n",
        "\n",
        "history = model_1.fit(x_train, y_train, epochs=500, validation_data = (x_test, y_test),verbose=False)  ## Fitting model"
      ],
      "metadata": {
        "id": "RSwsPEXYsE2N"
      },
      "execution_count": 22,
      "outputs": []
    },
    {
      "cell_type": "code",
      "source": [
        "# Model Evaluation\n",
        "\n",
        "_, train_mse = model_1.evaluate(x_train, y_train, verbose=0)\n",
        "_, test_mse = model_1.evaluate(x_test, y_test, verbose=0)\n",
        "print('Train: {}, Test: {}'.format(train_mse, test_mse))"
      ],
      "metadata": {
        "id": "CNWXRzIosOsl",
        "colab": {
          "base_uri": "https://localhost:8080/"
        },
        "outputId": "d46ae5ba-c2a5-477c-8c2c-4bef3be6b504"
      },
      "execution_count": 23,
      "outputs": [
        {
          "output_type": "stream",
          "name": "stdout",
          "text": [
            "Train: 0.004631746094673872, Test: 0.046696700155735016\n"
          ]
        }
      ]
    },
    {
      "cell_type": "markdown",
      "source": [
        "Report:\n",
        "- There is a huge difference between train validation error and test validation error.\n",
        "- As Train error is lesser than test error, shows over-fitting."
      ],
      "metadata": {
        "id": "TEwS_Ypsb53t"
      }
    },
    {
      "cell_type": "code",
      "source": [
        "y_pred_1 = model_1.predict(x_test)"
      ],
      "metadata": {
        "id": "Az8dV3kjsQg1",
        "colab": {
          "base_uri": "https://localhost:8080/"
        },
        "outputId": "9cd8cc22-e5c0-4a46-fa6c-a55684d7884b"
      },
      "execution_count": 24,
      "outputs": [
        {
          "output_type": "stream",
          "name": "stdout",
          "text": [
            "1/1 [==============================] - 0s 70ms/step\n"
          ]
        }
      ]
    },
    {
      "cell_type": "markdown",
      "source": [
        "## Defining the relationship"
      ],
      "metadata": {
        "id": "D-w_tmXgczFi"
      }
    },
    {
      "cell_type": "code",
      "source": [
        "plt.figure()\n",
        "plt.scatter(x_train, y_train, c='red', label='Train')\n",
        "plt.scatter(x_test, y_test, c='blue', label='Test')\n",
        "plt.plot(x_test, y_pred_1)\n",
        "plt.legend()\n",
        "plt.ylim((-1.5, 1.5))\n",
        "plt.show()"
      ],
      "metadata": {
        "id": "xs5hr9fgsSba",
        "colab": {
          "base_uri": "https://localhost:8080/",
          "height": 269
        },
        "outputId": "c4262087-93cf-48e3-892d-8eadb902b5be"
      },
      "execution_count": 10,
      "outputs": [
        {
          "output_type": "display_data",
          "data": {
            "text/plain": [
              "<Figure size 432x288 with 1 Axes>"
            ],
            "image/png": "[encoded data removed]"
          },
          "metadata": {
            "needs_background": "light"
          }
        }
      ]
    },
    {
      "cell_type": "markdown",
      "source": [
        "Report:\n",
        "- Plot shows Train data is more linear than test data.\n",
        "- Shows over-fitting"
      ],
      "metadata": {
        "id": "aQeHJPdDdVKF"
      }
    },
    {
      "cell_type": "code",
      "source": [
        "# Visualiztion validation loss(train-test plot)\n",
        "\n",
        "plt.plot(history.history['loss'])\n",
        "plt.plot(history.history['val_loss'])"
      ],
      "metadata": {
        "colab": {
          "base_uri": "https://localhost:8080/",
          "height": 282
        },
        "id": "RdZ3QwsmxiMF",
        "outputId": "c00a051d-6414-4a5f-9a34-c25d9c5c1d50"
      },
      "execution_count": 11,
      "outputs": [
        {
          "output_type": "execute_result",
          "data": {
            "text/plain": [
              "[<matplotlib.lines.Line2D at 0x7f2d06ed1820>]"
            ]
          },
          "metadata": {},
          "execution_count": 11
        },
        {
          "output_type": "display_data",
          "data": {
            "text/plain": [
              "<Figure size 432x288 with 1 Axes>"
            ],
            "image/png": "[encoded data removed]"
          },
          "metadata": {
            "needs_background": "light"
          }
        }
      ]
    },
    {
      "cell_type": "markdown",
      "source": [
        "Report:\n",
        "- There is a big difference in train and test loss."
      ],
      "metadata": {
        "id": "_8UFh8L7xzJ-"
      }
    },
    {
      "cell_type": "markdown",
      "source": [
        "# Dropout Model\n",
        "To handle over-fitting"
      ],
      "metadata": {
        "id": "4-xsaUT5sYbN"
      }
    },
    {
      "cell_type": "code",
      "source": [
        "# Making new model with dropout\n",
        "\n",
        "model_2 = Sequential()\n",
        "\n",
        "model_2.add(Dense(128, input_dim=1, activation=\"relu\"))\n",
        "model_2.add(Dropout(0.5))                                             ## Adding drop-out after every layer\n",
        "model_2.add(Dense(128, activation=\"relu\"))\n",
        "model_2.add(Dropout(0.5))                                             ## Adding drop-out after every layer\n",
        "model_2.add(Dense(1, activation=\"linear\"))\n",
        "\n",
        "adam = Adam(learning_rate=0.01)\n",
        "model_2.compile(loss='mse', optimizer=adam, metrics=['mse'])\n",
        "\n",
        "drop_out_history = model_2.fit(x_train, y_train, epochs=500, validation_data = (x_test, y_test), verbose=False)"
      ],
      "metadata": {
        "id": "gel3KWNFsYHV"
      },
      "execution_count": 29,
      "outputs": []
    },
    {
      "cell_type": "code",
      "source": [
        "# evaluate the model\n",
        "\n",
        "_, train_mse = model_2.evaluate(x_train, y_train, verbose=0)\n",
        "_, test_mse = model_2.evaluate(x_test, y_test, verbose=0)\n",
        "print('Train: {}, Test: {}'.format(train_mse, test_mse))"
      ],
      "metadata": {
        "id": "x_13a9XMsT5t",
        "colab": {
          "base_uri": "https://localhost:8080/"
        },
        "outputId": "7dbefee5-27b5-4b55-cd90-c1705d43a5a5"
      },
      "execution_count": 30,
      "outputs": [
        {
          "output_type": "stream",
          "name": "stdout",
          "text": [
            "Train: 0.017028048634529114, Test: 0.04039856791496277\n"
          ]
        }
      ]
    },
    {
      "cell_type": "markdown",
      "source": [
        "Report:\n",
        "- Difference between train error and test error is less"
      ],
      "metadata": {
        "id": "3bGDhb7SyfFS"
      }
    },
    {
      "cell_type": "code",
      "source": [
        "y_pred_2 = model_2.predict(x_test)"
      ],
      "metadata": {
        "id": "slS8t9nPsWve",
        "colab": {
          "base_uri": "https://localhost:8080/"
        },
        "outputId": "acdf163e-2092-485b-ba94-79e9daa3911d"
      },
      "execution_count": 31,
      "outputs": [
        {
          "output_type": "stream",
          "name": "stderr",
          "text": [
            "WARNING:tensorflow:5 out of the last 5 calls to <function Model.make_predict_function.<locals>.predict_function at 0x7f2cfe964430> triggered tf.function retracing. Tracing is expensive and the excessive number of tracings could be due to (1) creating @tf.function repeatedly in a loop, (2) passing tensors with different shapes, (3) passing Python objects instead of tensors. For (1), please define your @tf.function outside of the loop. For (2), @tf.function has reduce_retracing=True option that can avoid unnecessary retracing. For (3), please refer to https://www.tensorflow.org/guide/function#controlling_retracing and https://www.tensorflow.org/api_docs/python/tf/function for  more details.\n"
          ]
        },
        {
          "output_type": "stream",
          "name": "stdout",
          "text": [
            "1/1 [==============================] - 0s 77ms/step\n"
          ]
        }
      ]
    },
    {
      "cell_type": "code",
      "source": [
        "plt.figure()\n",
        "plt.scatter(x_train, y_train, c='red', label='Train')\n",
        "plt.scatter(x_test, y_test, c='blue', label='Test')\n",
        "plt.plot(x_test, y_pred_2)\n",
        "plt.legend()\n",
        "plt.ylim((-1.5, 1.5))\n",
        "plt.show()"
      ],
      "metadata": {
        "id": "geVtZxeYsfce",
        "colab": {
          "base_uri": "https://localhost:8080/",
          "height": 269
        },
        "outputId": "45d89f7d-c0d0-43a2-a939-df3d2835c997"
      },
      "execution_count": 32,
      "outputs": [
        {
          "output_type": "display_data",
          "data": {
            "text/plain": [
              "<Figure size 432x288 with 1 Axes>"
            ],
            "image/png": "[encoded data removed]"
          },
          "metadata": {
            "needs_background": "light"
          }
        }
      ]
    },
    {
      "cell_type": "markdown",
      "source": [
        "Report:\n",
        "- Plot became smooth"
      ],
      "metadata": {
        "id": "U8l2lX9XyxnR"
      }
    },
    {
      "cell_type": "code",
      "source": [
        "# Visualiztion validation loss(train-test plot)\n",
        "\n",
        "plt.plot(history.history['loss'])\n",
        "plt.plot(history.history['val_loss'])"
      ],
      "metadata": {
        "id": "Zng2kqrtshx5",
        "colab": {
          "base_uri": "https://localhost:8080/",
          "height": 282
        },
        "outputId": "47f12bc9-0b7a-40f4-812a-447d0bea5971"
      },
      "execution_count": 33,
      "outputs": [
        {
          "output_type": "execute_result",
          "data": {
            "text/plain": [
              "[<matplotlib.lines.Line2D at 0x7f2cff920610>]"
            ]
          },
          "metadata": {},
          "execution_count": 33
        },
        {
          "output_type": "display_data",
          "data": {
            "text/plain": [
              "<Figure size 432x288 with 1 Axes>"
            ],
            "image/png": "[encoded data removed]"
          },
          "metadata": {
            "needs_background": "light"
          }
        }
      ]
    },
    {
      "cell_type": "markdown",
      "source": [
        "Report:\n",
        "- The difference between train loss and test loss reduced."
      ],
      "metadata": {
        "id": "h0AA-GRgy4lO"
      }
    },
    {
      "cell_type": "code",
      "source": [],
      "metadata": {
        "id": "gr1GANWoshc1"
      },
      "execution_count": null,
      "outputs": []
    }
  ]
}